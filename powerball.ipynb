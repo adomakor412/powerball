{
 "cells": [
  {
   "cell_type": "code",
   "execution_count": 30,
   "metadata": {},
   "outputs": [
    {
     "name": "stdout",
     "output_type": "stream",
     "text": [
      "Your calculation for generating wins is running.\n",
      "These are your suggested balls :with tally [{46: 26}, {35: 28}, {51: 28}, {34: 29}, {4: 30}]\n",
      "These are your suggested power balls: with tally [{16: 14}, {1: 17}, {7: 17}, {12: 17}, {15: 17}, {17: 17}]\n",
      "Your average tally for Match 5 is:  39.20289855072464\n",
      "Your average tally for powerball is:  20.807692307692307\n"
     ]
    },
    {
     "data": {
      "image/png": "[encoded data removed]",
      "text/plain": [
       "<Figure size 432x288 with 1 Axes>"
      ]
     },
     "metadata": {
      "needs_background": "light"
     },
     "output_type": "display_data"
    }
   ],
   "source": [
    "# Choose the lottery numbers\n",
    "# lottery.py by Ronald Adomako July 7, 2016\n",
    "\n",
    "from itertools import combinations\n",
    "import string\n",
    "import timeit\n",
    "start_time = timeit.default_timer()\n",
    "import matplotlib.pyplot as plt\n",
    "%matplotlib inline\n",
    "\n",
    "class lotteryDatabase:\n",
    "    def __init__(self):       \n",
    "        self.histBallCount = [0]*69\n",
    "        self.histPowerballCount = [0]*26\n",
    "        self.pool = list(combinations(list(range(1,70)),5))\n",
    "        self.optPool = [] #suggested main draws\n",
    "        self.optPowerball = [0]*26 #suggested powerballs\n",
    "        self.played = []#pool of played tickets\n",
    "         \n",
    "    def genHistDraw(self, draws):\n",
    "        \n",
    "        for line in draws:\n",
    "            line = line.strip()\n",
    "            date, *nums = line.split() #python 3\n",
    "            \n",
    "            powerball = int(nums[5])#tally powerball 1 through 26\n",
    "            self.histPowerballCount[powerball-1]+=1\n",
    "            \n",
    "            for i in range(5):\n",
    "                ball = int(nums[i])\n",
    "                self.histBallCount[ball-1]+=1 #tally balls since 10/07/2015      \n",
    "        return\n",
    "\n",
    "    def pickPowerball(self):\n",
    "            \n",
    "        tally = [ pb for pb in self.histPowerballCount ]\n",
    "        minPowerball = []\n",
    "        minPBCount = []\n",
    "        for index in range(26):       \n",
    "            ballCount = min(tally)\n",
    "            minPBCount.append(ballCount)\n",
    "            minPowerball.append({tally.index(ballCount)+1: ballCount})\n",
    "            tally[tally.index(ballCount)] = 1000 #place holder assuming each tally <1000 to not count again\n",
    "        picks = 3\n",
    "        self.optPowerball = minPowerball[:picks]\n",
    "        while (len(self.optPowerball) < 27 and minPBCount[picks-1] == minPBCount[picks]):\n",
    "            picks+=1\n",
    "            self.optPowerball = minPowerball[:picks]\n",
    "        return self.optPowerball\n",
    "\n",
    "    def pickDrawing(self):#tally of least 5 picked balls\n",
    "        tally = [ wb for wb in self.histBallCount ]\n",
    "        minDraws = []\n",
    "        for count in range(69):\n",
    "            minTally = min(tally)\n",
    "            ball = tally.index(minTally)+1 #ball draw corresponding to count\n",
    "            d=dict()\n",
    "            d[ball]= minTally\n",
    "            minDraws.append(d)\n",
    "            tally[ball-1]=1000 #place holder for indices for all tallies <1000\n",
    "        picks = 5\n",
    "        self.optPool = minDraws[:picks]\n",
    "        while minDraws[picks][list(minDraws[picks].keys())[0]] == minDraws[picks-1][list(minDraws[picks-1].keys())[0]]:\n",
    "            picks+=1\n",
    "            self.optPool = minDraws[:picks]\n",
    "            if picks == 70:#in the case that all the balls are uniform\n",
    "                break\n",
    "        return self.optPool\n",
    "    \n",
    "    def plotCounts(self):\n",
    "        #print(self.histBallCount)\n",
    "        #print(max(self.histPowerballCount),self.histPowerballCount.index(max(self.histPowerballCount))+1)\n",
    "        plt.bar(range(1,70), self.histBallCount, label='Match 5')\n",
    "        plt.title('Plot of Powerball since 10/07/2015')\n",
    "        plt.xlabel('White Balls')  \n",
    "        plt.ylabel('Tally')\n",
    "        plt.bar(range(1,27), self.histPowerballCount, label='powerball')\n",
    "        plt.title('Plot of Powerball powerball since 10/07/2015')\n",
    "        plt.xlabel('powerballs')  \n",
    "        plt.legend()\n",
    "        print('Your average tally for Match 5 is: ',sum(self.histBallCount) / len(self.histBallCount))\n",
    "        print('Your average tally for powerball is: ',sum(self.histPowerballCount) / len(self.histPowerballCount))\n",
    "        return\n",
    "\n",
    "def main():\n",
    "    print('Your calculation for generating wins is running.')\n",
    "    lottery = lotteryDatabase()\n",
    "    tally = open('powerball.txt','r')\n",
    "    lottery.genHistDraw(tally)\n",
    "    print ('These are your suggested balls :with tally', lottery.pickDrawing())\n",
    "    print ('These are your suggested power balls: with tally', lottery.pickPowerball())\n",
    "    draws = open('tickets.txt','r')\n",
    "    lottery.plotCounts()\n",
    "'''\n",
    "if __name__ == 'main':\n",
    "'''\n",
    "main()#indent when using command line\n",
    "\n",
    "\n",
    "    #history = input(lottery.txt)\n",
    "    #work out length of time to finish running\n",
    "    #work out writing file to check algorithm (! in shell)\n",
    "\n",
    "\n"
   ]
  },
  {
   "cell_type": "markdown",
   "metadata": {},
   "source": [
    "# Highest chosen balls are 23 followed by 32. Histogram shows that more or less the balls are chosen at random given uniform shape as you approach infinite samples."
   ]
  },
  {
   "cell_type": "markdown",
   "metadata": {},
   "source": [
    "# Highest chosen powerballs is 24."
   ]
  }
 ],
 "metadata": {
  "kernelspec": {
   "display_name": "Python 3",
   "language": "python",
   "name": "python3"
  },
  "language_info": {
   "codemirror_mode": {
    "name": "ipython",
    "version": 3
   },
   "file_extension": ".py",
   "mimetype": "text/x-python",
   "name": "python",
   "nbconvert_exporter": "python",
   "pygments_lexer": "ipython3",
   "version": "3.7.6"
  }
 },
 "nbformat": 4,
 "nbformat_minor": 4
}
