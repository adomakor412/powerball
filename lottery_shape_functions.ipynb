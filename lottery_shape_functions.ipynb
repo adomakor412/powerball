{
 "cells": [
  {
   "cell_type": "markdown",
   "metadata": {},
   "source": [
    "# Predict lottery from previous draw"
   ]
  },
  {
   "cell_type": "markdown",
   "metadata": {},
   "source": [
    "## Write previous five draws as coefficient to five unknowns"
   ]
  },
  {
   "cell_type": "markdown",
   "metadata": {},
   "source": [
    "$ p_j = \\sum_{i=1}^5 a_i*x_i$, where **j** is the lottery and **i** are the picks from the **j-1** lottery."
   ]
  },
  {
   "cell_type": "markdown",
   "metadata": {},
   "source": [
    "## The predicted lottery picks is a vector"
   ]
  },
  {
   "cell_type": "markdown",
   "metadata": {},
   "source": [
    "### $p_j = [p_1, p_2, p_3, p_4, p_5]^T $"
   ]
  },
  {
   "cell_type": "markdown",
   "metadata": {},
   "source": [
    "## Write"
   ]
  },
  {
   "cell_type": "markdown",
   "metadata": {},
   "source": [
    "$p_{j,i} --> [p_1, p_2, p_3, p_4, p_5]^T$ where is **i** from 1 to 5 corresponding to its respective position in the vector."
   ]
  },
  {
   "cell_type": "markdown",
   "metadata": {},
   "source": [
    "## Solve $x_i$"
   ]
  },
  {
   "cell_type": "markdown",
   "metadata": {},
   "source": [
    "from system of equations for each consecutive **j**."
   ]
  },
  {
   "cell_type": "markdown",
   "metadata": {},
   "source": [
    "$$\n",
    "\\left(\\begin{array}{cc} \n",
    "a_1*x_1 & a_2*x_2 & a_3*x_3 & a_4*x_4 & a_5*x_5 \\\\\n",
    "a_1*x_1 & a_2*x_2 & a_3*x_3 & a_4*x_4 & a_5*x_5 \\\\\n",
    "a_1*x_1 & a_2*x_2 & a_3*x_3 & a_4*x_4 & a_5*x_5 \\\\\n",
    "a_1*x_1 & a_2*x_2 & a_3*x_3 & a_4*x_4 & a_5*x_5 \\\\\n",
    "a_1*x_1 & a_2*x_2 & a_3*x_3 & a_4*x_4 & a_5*x_5 \n",
    "\\end{array}\\right)_j=\n",
    "\\left(\\begin{array}{cc} \n",
    "p_{j,1}\\\\ \n",
    "p_{j,2}\\\\ \n",
    "p_{j,3}\\\\ \n",
    "p_{j,4}\\\\ \n",
    "p_{j,5}\n",
    "\\end{array}\\right)\n",
    "$$ "
   ]
  },
  {
   "cell_type": "markdown",
   "metadata": {},
   "source": [
    "## Predict"
   ]
  },
  {
   "cell_type": "markdown",
   "metadata": {},
   "source": [
    "Next draw ($p_{j+1}$) simply from previous draw equation: $\\sum_{i=1}^5 a_i*x_i$"
   ]
  },
  {
   "cell_type": "markdown",
   "metadata": {},
   "source": [
    "# ---> Need 5 unique equations!"
   ]
  },
  {
   "cell_type": "markdown",
   "metadata": {},
   "source": [
    "Find a way to generate new coefficients."
   ]
  },
  {
   "cell_type": "code",
   "execution_count": null,
   "metadata": {},
   "outputs": [],
   "source": []
  }
 ],
 "metadata": {
  "kernelspec": {
   "display_name": "Python 3",
   "language": "python",
   "name": "python3"
  },
  "language_info": {
   "codemirror_mode": {
    "name": "ipython",
    "version": 3
   },
   "file_extension": ".py",
   "mimetype": "text/x-python",
   "name": "python",
   "nbconvert_exporter": "python",
   "pygments_lexer": "ipython3",
   "version": "3.7.6"
  }
 },
 "nbformat": 4,
 "nbformat_minor": 4
}
